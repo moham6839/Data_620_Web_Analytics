{
 "cells": [
  {
   "cell_type": "code",
   "execution_count": null,
   "id": "17b6d9e7",
   "metadata": {},
   "outputs": [],
   "source": [
    "import matplotlib.pyplot as plt\n",
    "import numpy as np\n",
    "import networkx as nx\n",
    "import networkx.algorithms.bipartite as bipartite\n",
    "\n",
    "%matplotlib inline\n",
    "plt.rcParams[\"figure.figsize\"] = (12,10)\n",
    "\n",
    "G = nx.davis_southern_women_graph()\n",
    "women = G.graph['top']\n",
    "clubs = G.graph['bottom']"
   ]
  },
  {
   "cell_type": "code",
   "execution_count": null,
   "id": "1daf528d",
   "metadata": {},
   "outputs": [],
   "source": [
    "print(\"Biadjacency matrix\")\n",
    "print(bipartite.biadjacency_matrix(G, women, clubs))"
   ]
  },
  {
   "cell_type": "code",
   "execution_count": null,
   "id": "5ec639b8",
   "metadata": {},
   "outputs": [],
   "source": [
    "# project bipartite graph onto women nodes\n",
    "W = bipartite.projected_graph(G, women)\n",
    "print()\n",
    "print(\"#Friends, Member\")\n",
    "for w in women:\n",
    "    print(f\"{W.degree(w)} {w}\")"
   ]
  },
  {
   "cell_type": "code",
   "execution_count": null,
   "id": "dfcd72de",
   "metadata": {},
   "outputs": [],
   "source": [
    "# project bipartite graph onto women nodes keeping number of co-occurrence\n",
    "# the degree computed is weighted and counts the total number of shared contacts\n",
    "W = bipartite.weighted_projected_graph(G, women)\n",
    "print()\n",
    "print(\"#Friend meetings, Member\")\n",
    "for w in women:\n",
    "    print(f\"{W.degree(w, weight='weight')} {w}\")"
   ]
  },
  {
   "cell_type": "code",
   "execution_count": null,
   "id": "9d5d0bb7",
   "metadata": {},
   "outputs": [],
   "source": [
    "pos = nx.spring_layout(G, seed=648)  # Seed layout for reproducible node positions\n",
    "nx.draw(G, pos)\n",
    "plt.show()"
   ]
  },
  {
   "cell_type": "code",
   "execution_count": null,
   "id": "1ede3a31",
   "metadata": {},
   "outputs": [],
   "source": [
    "weights=[edata['weight'] for f,t,edata in W.edges(data=True)]"
   ]
  },
  {
   "cell_type": "code",
   "execution_count": null,
   "id": "435e5a50",
   "metadata": {},
   "outputs": [],
   "source": [
    "nx.draw(W, with_labels=True, node_size=5000, node_color=\"yellow\", font_size=10, font_family=\"Times New Roman\", font_color=\"black\",\n",
    "                width=weights, edge_color=\"skyblue\", alpha=0.8)"
   ]
  },
  {
   "cell_type": "code",
   "execution_count": null,
   "id": "2ba885d0",
   "metadata": {},
   "outputs": [],
   "source": [
    "nx.draw_circular(W,width=weights, edge_color=\"gray\", node_color=\"lightblue\", with_labels=True, node_size=6000, font_size=10, font_family=\"Times New Roman\", \n",
    "                alpha=0.8)"
   ]
  },
  {
   "cell_type": "code",
   "execution_count": null,
   "id": "c416d984",
   "metadata": {},
   "outputs": [],
   "source": [
    "# project bipartite graph onto women nodes\n",
    "W = bipartite.projected_graph(G, women)\n",
    "print('')\n",
    "print(\"# of Friends, Member\")\n",
    "\n",
    "W_degrees = {}\n",
    "for w in women:\n",
    "    W_degrees[w] = W.degree(w)\n",
    "\n",
    "for w in sorted(W_degrees, key=W_degrees.get, reverse=True):\n",
    "  print(W_degrees[w], w)"
   ]
  },
  {
   "cell_type": "code",
   "execution_count": null,
   "id": "deb51f46",
   "metadata": {},
   "outputs": [],
   "source": [
    "import networkx as nx\n",
    "import matplotlib.pyplot as plt\n",
    "\n",
    "# Load the Davis Southern Women social network\n",
    "G = nx.davis_southern_women_graph()\n",
    "\n",
    "# Draw the network\n",
    "plt.figure(figsize=(8, 6))\n",
    "nx.draw(G, with_labels=True, node_color=\"lightblue\", edge_color=\"gray\", node_size=500)\n",
    "plt.title(\"Davis Southern Women Bipartite Network\")\n",
    "plt.show()"
   ]
  },
  {
   "cell_type": "code",
   "execution_count": null,
   "id": "2648638a",
   "metadata": {},
   "outputs": [],
   "source": [
    "# Load the Davis Southern Women social network\n",
    "G = nx.davis_southern_women_graph()\n",
    "\n",
    "# Draw the network\n",
    "plt.figure(figsize=(8, 6))\n",
    "nx.draw(G, with_labels=True, node_color=\"lightblue\", edge_color=\"gray\", font_family=\"Times New Roman\", node_size=5000)\n",
    "plt.title(\"Davis Southern Women Bipartite Network\")\n",
    "plt.show()"
   ]
  },
  {
   "cell_type": "code",
   "execution_count": null,
   "id": "7d389aa4",
   "metadata": {},
   "outputs": [],
   "source": [
    "# project bipartite graph onto women nodes\n",
    "W = bipartite.projected_graph(G, women)\n",
    "print()\n",
    "print(\"#Friends, Member\")\n",
    "for w in women:\n",
    "    print(f\"{W.degree(w)} {w}\")\n",
    "\n",
    "# project bipartite graph onto women nodes keeping number of co-occurrence\n",
    "# the degree computed is weighted and counts the total number of shared contacts\n",
    "W = bipartite.weighted_projected_graph(G, women)\n",
    "print()\n",
    "print(\"#Friend meetings, Member\")\n",
    "for w in women:\n",
    "    print(f\"{W.degree(w, weight='weight')} {w}\")"
   ]
  },
  {
   "cell_type": "code",
   "execution_count": null,
   "id": "e01f5f12",
   "metadata": {},
   "outputs": [],
   "source": [
    "# project bipartite graph onto women nodes\n",
    "C = bipartite.projected_graph(G, clubs)\n",
    "print()\n",
    "print(\"#Friends, Member\")\n",
    "for c in clubs:\n",
    "    print(f\"{C.degree(c)} {c}\")\n",
    "\n",
    "# project bipartite graph onto women nodes keeping number of co-occurrence\n",
    "# the degree computed is weighted and counts the total number of shared contacts\n",
    "C = bipartite.weighted_projected_graph(G, clubs)\n",
    "print()\n",
    "print(\"#Friend meetings, Member\")\n",
    "for c in clubs:\n",
    "    print(f\"{C.degree(c, weight='weight')} {c}\")"
   ]
  },
  {
   "cell_type": "code",
   "execution_count": null,
   "id": "0aebf444",
   "metadata": {},
   "outputs": [],
   "source": [
    "nx.draw(C, with_labels=True, node_size=5000, node_color=\"yellow\", font_size=10, font_family=\"sans-serif\", font_color=\"black\",\n",
    "                edge_color=\"skyblue\", alpha=0.8)"
   ]
  },
  {
   "cell_type": "code",
   "execution_count": null,
   "id": "e9458d83",
   "metadata": {},
   "outputs": [],
   "source": [
    "import networkx as nx\n",
    "\n",
    "# Load the Davis Southern Women Club network\n",
    "G = nx.davis_southern_women_graph()\n",
    "\n",
    "# Identify node sets (women & events)\n",
    "women = {n for n, d in G.nodes(data=True) if d[\"bipartite\"] == 0}\n",
    "events = set(G) - women"
   ]
  },
  {
   "cell_type": "code",
   "execution_count": null,
   "id": "268cfa0e",
   "metadata": {},
   "outputs": [],
   "source": [
    "# Compute degree centrality for all nodes\n",
    "degree_centrality = nx.degree_centrality(G)\n",
    "\n",
    "# Separate by node type\n",
    "women_centrality = {k: v for k, v in degree_centrality.items() if k in women}\n",
    "events_centrality = {k: v for k, v in degree_centrality.items() if k in events}\n",
    "\n",
    "# Display top results\n",
    "print(\"Top Women by Degree Centrality:\", sorted(women_centrality.items(), key=lambda x: x[1], reverse=True)[:10])\n",
    "print(\"Top Events by Degree Centrality:\", sorted(events_centrality.items(), key=lambda x: x[1], reverse=True)[:10])"
   ]
  },
  {
   "cell_type": "code",
   "execution_count": null,
   "id": "d7bbc0b0",
   "metadata": {},
   "outputs": [],
   "source": [
    "# Compute degree centrality for all nodes\n",
    "betweenness_centrality = nx.betweenness_centrality(G)\n",
    "\n",
    "# Separate by node type\n",
    "women_betweenness_centrality = {k: v for k, v in betweenness_centrality.items() if k in women}\n",
    "events_betweenness_centrality = {k: v for k, v in betweenness_centrality.items() if k in events}\n",
    "\n",
    "# Display top results\n",
    "print(\"Top Women by Betweenness Centrality:\", sorted(women_betweenness_centrality.items(), key=lambda x: x[1], reverse=True)[:10])\n",
    "print(\"Top Events by Betweenness Centrality:\", sorted(events_betweenness_centrality.items(), key=lambda x: x[1], reverse=True)[:10])"
   ]
  },
  {
   "cell_type": "code",
   "execution_count": null,
   "id": "9e83bd02",
   "metadata": {},
   "outputs": [],
   "source": [
    "betweenness_df = pd.DataFrame(sorted(women_betweenness_centrality.items(), key=lambda x: x[1], reverse=True)[:10], columns=['Name', 'Betweenness Centrality'])"
   ]
  },
  {
   "cell_type": "code",
   "execution_count": null,
   "id": "e1c8f3bd",
   "metadata": {},
   "outputs": [],
   "source": [
    "df = pd.DataFrame(sorted(women_centrality.items(), key=lambda x: x[1], reverse=True)[:10], columns=['Name', 'Degree Centrality'])"
   ]
  },
  {
   "cell_type": "code",
   "execution_count": null,
   "id": "82b416eb",
   "metadata": {},
   "outputs": [],
   "source": [
    "sorted_dict = dict(sorted(women_centrality.items(), key=lambda item: item[1], reverse=True))"
   ]
  },
  {
   "cell_type": "code",
   "execution_count": null,
   "id": "3fa44360",
   "metadata": {},
   "outputs": [],
   "source": [
    "# df2 = pd.DataFrame.from_dict(sorted_dict, orient='index')"
   ]
  },
  {
   "cell_type": "code",
   "execution_count": null,
   "id": "19553e2f",
   "metadata": {},
   "outputs": [],
   "source": [
    "df = pd.DataFrame(list(sorted_dict.items()), columns=['Name', 'Degree Centrality'])"
   ]
  },
  {
   "cell_type": "code",
   "execution_count": null,
   "id": "773e9deb",
   "metadata": {},
   "outputs": [],
   "source": [
    "import networkx as nx\n",
    "import matplotlib.pyplot as plt\n",
    "\n",
    "# Load bipartite graph\n",
    "G = nx.davis_southern_women_graph()\n",
    "\n",
    "# Identify women and event nodes\n",
    "women = {n for n, d in G.nodes(data=True) if d[\"bipartite\"] == 0}\n",
    "events = set(G) - women"
   ]
  },
  {
   "cell_type": "code",
   "execution_count": null,
   "id": "5fd167a7",
   "metadata": {},
   "outputs": [],
   "source": [
    "# Degree centrality (how many events each woman attended)\n",
    "degree_centrality = nx.degree_centrality(G)\n",
    "\n",
    "# Sort and display top women by attendance\n",
    "top_women = sorted(women, key=lambda x: degree_centrality[x], reverse=True)\n",
    "print(\"Top Attending Women:\", [(w, degree_centrality[w]) for w in top_women[:5]])"
   ]
  },
  {
   "cell_type": "code",
   "execution_count": null,
   "id": "a8e98ce3",
   "metadata": {},
   "outputs": [],
   "source": [
    "# Betweenness centrality (how many events each woman attended)\n",
    "between_centrality = nx.degree_centrality(G)\n",
    "\n",
    "# Sort and display top women by attendance\n",
    "top_women = sorted(women, key=lambda x: degree_centrality[x], reverse=True)\n",
    "print(\"Top Attending Women:\", [(w, degree_centrality[w]) for w in top_women[:5]])"
   ]
  },
  {
   "cell_type": "code",
   "execution_count": null,
   "id": "c4932ae4",
   "metadata": {},
   "outputs": [],
   "source": [
    "sorted_dict2 = dict(sorted(events_centrality.items(), key=lambda item: item[1], reverse=True))"
   ]
  },
  {
   "cell_type": "code",
   "execution_count": null,
   "id": "e2e09103",
   "metadata": {},
   "outputs": [],
   "source": [
    "df2 = pd.DataFrame(list(sorted_dict2.items()), columns=['Event', 'Degree Centrality'])"
   ]
  },
  {
   "cell_type": "code",
   "execution_count": null,
   "id": "22901399",
   "metadata": {},
   "outputs": [],
   "source": [
    "\n",
    "\n",
    "# Load the Davis Southern Women Network\n",
    "G = nx.davis_southern_women_graph()\n",
    "\n",
    "# Identify women and event nodes\n",
    "women = {n for n, d in G.nodes(data=True) if d[\"bipartite\"] == 0}\n",
    "events = set(G) - women"
   ]
  },
  {
   "cell_type": "code",
   "execution_count": null,
   "id": "47c5a04c",
   "metadata": {},
   "outputs": [],
   "source": [
    ", max_iter=1000"
   ]
  },
  {
   "cell_type": "code",
   "execution_count": null,
   "id": "6496bb9a",
   "metadata": {},
   "outputs": [],
   "source": [
    "# Compute centrality measures\n",
    "degree_centrality = nx.degree_centrality(G)\n",
    "betweenness_centrality = nx.betweenness_centrality(G)\n",
    "eigenvector_centrality = nx.eigenvector_centrality(G)"
   ]
  },
  {
   "cell_type": "code",
   "execution_count": null,
   "id": "863e3068",
   "metadata": {},
   "outputs": [],
   "source": [
    "import matplotlib.pyplot as plt\n",
    "import matplotlib.colors as mcolors\n",
    "\n",
    "# Assign colors: Highly central events = red, others = lightblue\n",
    "event_colors = [\"red\" if node in clubs_degree_centrality else \"lightblue\" for node in G.nodes()]\n",
    "\n",
    "# Draw the bipartite network\n",
    "plt.figure(figsize=(10, 7))\n",
    "nx.draw(G, with_labels=True, node_color=event_colors, edge_color=\"gray\", node_size=500, font_size=10)\n",
    "plt.title(\"Most Influential Events in the Davis Southern Women Network\")\n",
    "plt.show()"
   ]
  },
  {
   "cell_type": "code",
   "execution_count": null,
   "id": "30e312c8",
   "metadata": {},
   "outputs": [],
   "source": []
  },
  {
   "cell_type": "code",
   "execution_count": null,
   "id": "f342bd1b",
   "metadata": {},
   "outputs": [],
   "source": []
  },
  {
   "cell_type": "code",
   "execution_count": null,
   "id": "17c788c9",
   "metadata": {},
   "outputs": [],
   "source": []
  }
 ],
 "metadata": {
  "kernelspec": {
   "display_name": "Python 3 (ipykernel)",
   "language": "python",
   "name": "python3"
  },
  "language_info": {
   "codemirror_mode": {
    "name": "ipython",
    "version": 3
   },
   "file_extension": ".py",
   "mimetype": "text/x-python",
   "name": "python",
   "nbconvert_exporter": "python",
   "pygments_lexer": "ipython3",
   "version": "3.11.7"
  }
 },
 "nbformat": 4,
 "nbformat_minor": 5
}
