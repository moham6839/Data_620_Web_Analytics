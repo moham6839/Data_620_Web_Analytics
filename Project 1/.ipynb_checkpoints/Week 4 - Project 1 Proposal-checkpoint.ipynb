{
 "cells": [
  {
   "cell_type": "markdown",
   "id": "d109d91f",
   "metadata": {},
   "source": [
    "# Week Four - Assignment Centrality Measures"
   ]
  },
  {
   "cell_type": "markdown",
   "id": "33864509",
   "metadata": {},
   "source": [
    "**By Eddie Xu and Mohamed Hassan-El Serafi**"
   ]
  },
  {
   "cell_type": "markdown",
   "id": "e8e846bd",
   "metadata": {},
   "source": [
    "Centrality measures can be used to predict (positive or negative) outcomes for a node.\n",
    "\n",
    "Your task in this week’s assignment is to identify an interesting set of network data that is available on the web (either through web scraping or web APIs) that could be used for analyzing and comparing centrality measures across nodes.  As an additional constraint, there should be at least one categorical variable available for each node (such as “Male” or “Female”; “Republican”, “Democrat,” or “Undecided”, etc.)\n",
    "\n",
    "In addition to identifying your data source, you should create a high level plan that describes how you would load the data for analysis, and describe a hypothetical outcome that could be predicted from comparing degree centrality across categorical groups. \n",
    "\n",
    "For this week’s assignment, you are not required to actually load or analyze the data.  Please see also Project 1 below.\n",
    "\n",
    "You may work in a small group on the assignment.   You should post your document to GitHub by end of day on Sunday."
   ]
  },
  {
   "cell_type": "markdown",
   "id": "d6e9fd69",
   "metadata": {},
   "source": [
    "## Data Selection"
   ]
  },
  {
   "cell_type": "markdown",
   "id": "8ca5bc45",
   "metadata": {},
   "source": [
    "For this assignment, we decided to choose cardiovascular disease data for our project to identify centrality measures."
   ]
  },
  {
   "cell_type": "markdown",
   "id": "3c1f58f2",
   "metadata": {},
   "source": [
    "## Loading the Data"
   ]
  },
  {
   "cell_type": "markdown",
   "id": "98b3f739",
   "metadata": {},
   "source": [
    "A theoretical dataset that can be used involves assessing the risk factors for cardiovascular disease. Using variables such as age, weight, height, smoking status, cholesterol, alcohol consumption, and physical activity status can help form a baseline structure of the potential risk factors developing heart disease. Identifying patterns among the risk factors associated with cardiovascular disease can help us understand which variables have the most connections to other nodes (factors), the most influential factor between other nodes, the shortest path to other nodes, and how influential a node is to others based on how connected the other nodes are. For reference, here is a link to a network analysis exploring how adverse childhood experiences are associated with cardiovascular disease: https://www.sciencedirect.com/science/article/pii/S235282732300023X#fig2"
   ]
  },
  {
   "cell_type": "markdown",
   "id": "b4ab7d7c",
   "metadata": {},
   "source": [
    "## Hypothetical Outcomes Using Centrality Measures "
   ]
  },
  {
   "cell_type": "markdown",
   "id": "933c9c91",
   "metadata": {},
   "source": [
    "In a dataset we found on Kaggle (https://www.kaggle.com/datasets/thedevastator/exploring-risk-factors-for-cardiovascular-diseas), it contains variables that are considered risk factors for CVD. Variables include age, gender, height, weight, blood pressure values, cholesterol levels, glucose levels, smoking habits and alcohol consumption of over 70,000 individuals. Here are what the following centrality measures can help us understand when assessing how integral each of the risk factors are to CVD:"
   ]
  },
  {
   "cell_type": "markdown",
   "id": "85c6f371",
   "metadata": {},
   "source": [
    "* **Degree of Connections** - Determine the variable that has the most number of connections associated with other variables, which can help indicate how influential they are. For example, if height has the highest number of connections, it means other factors (e.g., weight, age) are connected to it, and suggests height is a major factor influencing CVD."
   ]
  },
  {
   "cell_type": "markdown",
   "id": "91d3213a",
   "metadata": {},
   "source": [
    "* **Degree Centrality** - Calculate which variable has the highest degree centrality with other variables, and therefore indicates it is a major factor influencing CVD. For example, if cholesterol has the highest degree centrality, it means many other variables (e.g., blood pressure, age) are connected to it. This suggests cholesterol is a major factor influencing CVD."
   ]
  },
  {
   "cell_type": "markdown",
   "id": "ad0a36f8",
   "metadata": {},
   "source": [
    "* **Betweenness Centrality** - Determine the risk factor that has the highest influence to other factors that can lead to CVD. For example, if smoking has high betweenness centrality, it means smoking connects other CVD risk factors (e.g., diabetes, cholesterol, and blood pressure). This suggests smoking may be a key bridge to CVD risk, and stopping smoking could break the pathway leading to CVD."
   ]
  },
  {
   "cell_type": "markdown",
   "id": "324e0d59",
   "metadata": {},
   "source": [
    "* **Closeness Centrality** - Measures how quickly a risk factor can affect others, having the shortest path to all the other factors. For example, if weight has high closeness centrality, it means changes in weight can quickly impact many other variables (e.g., height, cholesterol, glucose). This suggests weight control can help reduce overall CVD risk."
   ]
  },
  {
   "cell_type": "markdown",
   "id": "79981efd",
   "metadata": {},
   "source": [
    "* **Eigenvector Centrality** - Considers not just how many connections a risk factor has, but how influential its connections are. For example, if blood pressure has high eigenvector centrality, it’s not just important on its own. It’s also connected to other key risk factors like smoking, alcohol consumption, and physical activity status. This means managing blood pressure may have a wider impact on reducing CVD risk."
   ]
  }
 ],
 "metadata": {
  "kernelspec": {
   "display_name": "Python 3 (ipykernel)",
   "language": "python",
   "name": "python3"
  },
  "language_info": {
   "codemirror_mode": {
    "name": "ipython",
    "version": 3
   },
   "file_extension": ".py",
   "mimetype": "text/x-python",
   "name": "python",
   "nbconvert_exporter": "python",
   "pygments_lexer": "ipython3",
   "version": "3.11.7"
  }
 },
 "nbformat": 4,
 "nbformat_minor": 5
}
